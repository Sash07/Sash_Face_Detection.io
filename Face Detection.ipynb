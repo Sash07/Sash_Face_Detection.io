{
 "cells": [
  {
   "cell_type": "code",
   "execution_count": null,
   "id": "2ef3cb9d",
   "metadata": {},
   "outputs": [],
   "source": [
    "!pip install OpenCV-python"
   ]
  },
  {
   "cell_type": "markdown",
   "id": "d4d861d0",
   "metadata": {},
   "source": [
    "## Import Libraries"
   ]
  },
  {
   "cell_type": "code",
   "execution_count": null,
   "id": "93fcf581",
   "metadata": {},
   "outputs": [],
   "source": [
    "import cv2\n",
    "import matplotlib.pyplot as plt"
   ]
  },
  {
   "cell_type": "code",
   "execution_count": null,
   "id": "c54ecf70",
   "metadata": {},
   "outputs": [],
   "source": [
    "cam=cv2.VideoCapture(0) #cam object to access camera"
   ]
  },
  {
   "cell_type": "code",
   "execution_count": null,
   "id": "b2804ea0",
   "metadata": {},
   "outputs": [],
   "source": [
    "v1,frame =cam.read()# v1= camera on or not and frame=data in array"
   ]
  },
  {
   "cell_type": "code",
   "execution_count": null,
   "id": "144f557d",
   "metadata": {},
   "outputs": [],
   "source": [
    "cv2.waitKey(10)\n",
    "cam.release()\n",
    "cv2.destroyAllWindows()"
   ]
  },
  {
   "cell_type": "code",
   "execution_count": null,
   "id": "65ff0c3c",
   "metadata": {},
   "outputs": [],
   "source": [
    "v1"
   ]
  },
  {
   "cell_type": "code",
   "execution_count": null,
   "id": "6b01ad56",
   "metadata": {},
   "outputs": [],
   "source": [
    "frame"
   ]
  },
  {
   "cell_type": "code",
   "execution_count": null,
   "id": "4a984a14",
   "metadata": {},
   "outputs": [],
   "source": [
    "plt.imshow(frame)"
   ]
  },
  {
   "cell_type": "code",
   "execution_count": null,
   "id": "b7a53b0b",
   "metadata": {},
   "outputs": [],
   "source": [
    "# cv2.namedWindow(\"Open-CV\",cv2.WINDOW_NORMAL)\n",
    "# webcam=cv2.VideoCapture(0)\n",
    "\n",
    "# while(True):\n",
    "#     rect,img=webcam.read()\n",
    "#     cv2.imshow(\"Open-CV\",img)\n",
    "    \n",
    "#     if cv2.waitKey(10)==ord(\"q\"):\n",
    "#         break\n",
    "# webcam.release()\n",
    "# cv2.destroyAllWindows"
   ]
  },
  {
   "cell_type": "markdown",
   "id": "99414027",
   "metadata": {},
   "source": [
    "## Face Detection\n"
   ]
  },
  {
   "cell_type": "code",
   "execution_count": null,
   "id": "5f484f67",
   "metadata": {},
   "outputs": [],
   "source": [
    "faceDetect=cv2.CascadeClassifier(\"C:/Users/smart/Downloads/haarcascade_frontalface_alt.xml\")\n",
    "\n",
    "cv2.namedWindow(\"Face Detection\",cv2.WINDOW_NORMAL)\n",
    "webcam=cv2.VideoCapture(0)\n",
    "\n",
    "while(True):\n",
    "    rect,img=webcam.read()\n",
    "    faces=faceDetect.detectMultiScale(img,1.5)\n",
    "    print(len(faces))\n",
    "    for(x,y,w,h) in faces:\n",
    "        cv2.rectangle(img,(x,y),(x+w,y+h),(0,0,255),2)\n",
    "    cv2.imshow(\"face Detection\",img)\n",
    "    if cv2.waitKey(10)==ord(\"q\"):\n",
    "        break\n",
    "webcam.release()\n",
    "cv2.destroyAllWindows"
   ]
  },
  {
   "cell_type": "code",
   "execution_count": null,
   "id": "20d1553f",
   "metadata": {},
   "outputs": [],
   "source": []
  }
 ],
 "metadata": {
  "kernelspec": {
   "display_name": "Python 3 (ipykernel)",
   "language": "python",
   "name": "python3"
  },
  "language_info": {
   "codemirror_mode": {
    "name": "ipython",
    "version": 3
   },
   "file_extension": ".py",
   "mimetype": "text/x-python",
   "name": "python",
   "nbconvert_exporter": "python",
   "pygments_lexer": "ipython3",
   "version": "3.10.9"
  }
 },
 "nbformat": 4,
 "nbformat_minor": 5
}
